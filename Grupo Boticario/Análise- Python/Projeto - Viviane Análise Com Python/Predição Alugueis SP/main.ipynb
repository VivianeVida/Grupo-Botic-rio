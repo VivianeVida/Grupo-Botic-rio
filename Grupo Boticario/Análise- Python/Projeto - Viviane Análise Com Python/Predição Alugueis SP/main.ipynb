{
 "cells": [
  {
   "cell_type": "code",
   "execution_count": 1,
   "id": "ccabd800-89da-406b-8ccf-2c58fb493a00",
   "metadata": {
    "tags": []
   },
   "outputs": [
    {
     "data": {
      "text/html": [
       "<div>\n",
       "<style scoped>\n",
       "    .dataframe tbody tr th:only-of-type {\n",
       "        vertical-align: middle;\n",
       "    }\n",
       "\n",
       "    .dataframe tbody tr th {\n",
       "        vertical-align: top;\n",
       "    }\n",
       "\n",
       "    .dataframe thead th {\n",
       "        text-align: right;\n",
       "    }\n",
       "</style>\n",
       "<table border=\"1\" class=\"dataframe\">\n",
       "  <thead>\n",
       "    <tr style=\"text-align: right;\">\n",
       "      <th></th>\n",
       "      <th>address</th>\n",
       "      <th>district</th>\n",
       "      <th>area</th>\n",
       "      <th>bedrooms</th>\n",
       "      <th>garage</th>\n",
       "      <th>type</th>\n",
       "      <th>rent</th>\n",
       "      <th>total</th>\n",
       "    </tr>\n",
       "  </thead>\n",
       "  <tbody>\n",
       "    <tr>\n",
       "      <th>0</th>\n",
       "      <td>Rua Herval</td>\n",
       "      <td>Belenzinho</td>\n",
       "      <td>21</td>\n",
       "      <td>1</td>\n",
       "      <td>0</td>\n",
       "      <td>Studio e kitnet</td>\n",
       "      <td>2400</td>\n",
       "      <td>2939</td>\n",
       "    </tr>\n",
       "    <tr>\n",
       "      <th>1</th>\n",
       "      <td>Avenida São Miguel</td>\n",
       "      <td>Vila Marieta</td>\n",
       "      <td>15</td>\n",
       "      <td>1</td>\n",
       "      <td>1</td>\n",
       "      <td>Studio e kitnet</td>\n",
       "      <td>1030</td>\n",
       "      <td>1345</td>\n",
       "    </tr>\n",
       "    <tr>\n",
       "      <th>2</th>\n",
       "      <td>Rua Oscar Freire</td>\n",
       "      <td>Pinheiros</td>\n",
       "      <td>18</td>\n",
       "      <td>1</td>\n",
       "      <td>0</td>\n",
       "      <td>Apartamento</td>\n",
       "      <td>4000</td>\n",
       "      <td>4661</td>\n",
       "    </tr>\n",
       "    <tr>\n",
       "      <th>3</th>\n",
       "      <td>Rua Júlio Sayago</td>\n",
       "      <td>Vila Ré</td>\n",
       "      <td>56</td>\n",
       "      <td>2</td>\n",
       "      <td>2</td>\n",
       "      <td>Casa em condomínio</td>\n",
       "      <td>1750</td>\n",
       "      <td>1954</td>\n",
       "    </tr>\n",
       "    <tr>\n",
       "      <th>4</th>\n",
       "      <td>Rua Barata Ribeiro</td>\n",
       "      <td>Bela Vista</td>\n",
       "      <td>19</td>\n",
       "      <td>1</td>\n",
       "      <td>0</td>\n",
       "      <td>Studio e kitnet</td>\n",
       "      <td>4000</td>\n",
       "      <td>4654</td>\n",
       "    </tr>\n",
       "  </tbody>\n",
       "</table>\n",
       "</div>"
      ],
      "text/plain": [
       "              address      district  area  bedrooms  garage  \\\n",
       "0          Rua Herval    Belenzinho    21         1       0   \n",
       "1  Avenida São Miguel  Vila Marieta    15         1       1   \n",
       "2    Rua Oscar Freire     Pinheiros    18         1       0   \n",
       "3    Rua Júlio Sayago       Vila Ré    56         2       2   \n",
       "4  Rua Barata Ribeiro    Bela Vista    19         1       0   \n",
       "\n",
       "                 type  rent  total  \n",
       "0     Studio e kitnet  2400   2939  \n",
       "1     Studio e kitnet  1030   1345  \n",
       "2         Apartamento  4000   4661  \n",
       "3  Casa em condomínio  1750   1954  \n",
       "4     Studio e kitnet  4000   4654  "
      ]
     },
     "execution_count": 1,
     "metadata": {},
     "output_type": "execute_result"
    }
   ],
   "source": [
    "import pandas as pd\n",
    "import warnings\n",
    "warnings.filterwarnings('ignore')\n",
    "df = pd.read_csv('base-alugueis-sp.csv')\n",
    "df.head()"
   ]
  },
  {
   "cell_type": "code",
   "execution_count": 61,
   "id": "640478ad-eedf-4de1-ae16-496a9522c939",
   "metadata": {
    "tags": []
   },
   "outputs": [
    {
     "data": {
      "text/html": [
       "<div>\n",
       "<style scoped>\n",
       "    .dataframe tbody tr th:only-of-type {\n",
       "        vertical-align: middle;\n",
       "    }\n",
       "\n",
       "    .dataframe tbody tr th {\n",
       "        vertical-align: top;\n",
       "    }\n",
       "\n",
       "    .dataframe thead th {\n",
       "        text-align: right;\n",
       "    }\n",
       "</style>\n",
       "<table border=\"1\" class=\"dataframe\">\n",
       "  <thead>\n",
       "    <tr style=\"text-align: right;\">\n",
       "      <th></th>\n",
       "      <th>area</th>\n",
       "      <th>bedrooms</th>\n",
       "      <th>garage</th>\n",
       "      <th>rent</th>\n",
       "      <th>total</th>\n",
       "    </tr>\n",
       "  </thead>\n",
       "  <tbody>\n",
       "    <tr>\n",
       "      <th>count</th>\n",
       "      <td>11657.000000</td>\n",
       "      <td>11657.000000</td>\n",
       "      <td>11657.000000</td>\n",
       "      <td>11657.000000</td>\n",
       "      <td>11657.000000</td>\n",
       "    </tr>\n",
       "    <tr>\n",
       "      <th>mean</th>\n",
       "      <td>84.655658</td>\n",
       "      <td>1.966286</td>\n",
       "      <td>1.060393</td>\n",
       "      <td>3250.814789</td>\n",
       "      <td>4080.030625</td>\n",
       "    </tr>\n",
       "    <tr>\n",
       "      <th>std</th>\n",
       "      <td>74.020536</td>\n",
       "      <td>0.931313</td>\n",
       "      <td>1.132349</td>\n",
       "      <td>2650.711557</td>\n",
       "      <td>3352.480274</td>\n",
       "    </tr>\n",
       "    <tr>\n",
       "      <th>min</th>\n",
       "      <td>0.000000</td>\n",
       "      <td>0.000000</td>\n",
       "      <td>0.000000</td>\n",
       "      <td>500.000000</td>\n",
       "      <td>509.000000</td>\n",
       "    </tr>\n",
       "    <tr>\n",
       "      <th>25%</th>\n",
       "      <td>40.000000</td>\n",
       "      <td>1.000000</td>\n",
       "      <td>0.000000</td>\n",
       "      <td>1590.000000</td>\n",
       "      <td>1996.000000</td>\n",
       "    </tr>\n",
       "    <tr>\n",
       "      <th>50%</th>\n",
       "      <td>60.000000</td>\n",
       "      <td>2.000000</td>\n",
       "      <td>1.000000</td>\n",
       "      <td>2415.000000</td>\n",
       "      <td>3057.000000</td>\n",
       "    </tr>\n",
       "    <tr>\n",
       "      <th>75%</th>\n",
       "      <td>96.000000</td>\n",
       "      <td>3.000000</td>\n",
       "      <td>2.000000</td>\n",
       "      <td>3800.000000</td>\n",
       "      <td>4774.000000</td>\n",
       "    </tr>\n",
       "    <tr>\n",
       "      <th>max</th>\n",
       "      <td>580.000000</td>\n",
       "      <td>6.000000</td>\n",
       "      <td>6.000000</td>\n",
       "      <td>25000.000000</td>\n",
       "      <td>28700.000000</td>\n",
       "    </tr>\n",
       "  </tbody>\n",
       "</table>\n",
       "</div>"
      ],
      "text/plain": [
       "               area      bedrooms        garage          rent         total\n",
       "count  11657.000000  11657.000000  11657.000000  11657.000000  11657.000000\n",
       "mean      84.655658      1.966286      1.060393   3250.814789   4080.030625\n",
       "std       74.020536      0.931313      1.132349   2650.711557   3352.480274\n",
       "min        0.000000      0.000000      0.000000    500.000000    509.000000\n",
       "25%       40.000000      1.000000      0.000000   1590.000000   1996.000000\n",
       "50%       60.000000      2.000000      1.000000   2415.000000   3057.000000\n",
       "75%       96.000000      3.000000      2.000000   3800.000000   4774.000000\n",
       "max      580.000000      6.000000      6.000000  25000.000000  28700.000000"
      ]
     },
     "execution_count": 61,
     "metadata": {},
     "output_type": "execute_result"
    }
   ],
   "source": [
    "df.describe() # Aqui conseguimos ver diversas estatísticas básicas ao mesmo tempo e mais a frente veremos uma a uma"
   ]
  },
  {
   "cell_type": "code",
   "execution_count": 2,
   "id": "b6ef2e6c-7426-4eaa-851b-2b4c451c3ebd",
   "metadata": {
    "tags": []
   },
   "outputs": [
    {
     "name": "stdout",
     "output_type": "stream",
     "text": [
      "<class 'pandas.core.frame.DataFrame'>\n",
      "RangeIndex: 11657 entries, 0 to 11656\n",
      "Data columns (total 8 columns):\n",
      " #   Column    Non-Null Count  Dtype \n",
      "---  ------    --------------  ----- \n",
      " 0   address   11657 non-null  object\n",
      " 1   district  11657 non-null  object\n",
      " 2   area      11657 non-null  int64 \n",
      " 3   bedrooms  11657 non-null  int64 \n",
      " 4   garage    11657 non-null  int64 \n",
      " 5   type      11657 non-null  object\n",
      " 6   rent      11657 non-null  int64 \n",
      " 7   total     11657 non-null  int64 \n",
      "dtypes: int64(5), object(3)\n",
      "memory usage: 728.7+ KB\n"
     ]
    }
   ],
   "source": [
    "df.info() # Os tipos estão corretos e sem valores nulos"
   ]
  },
  {
   "cell_type": "code",
   "execution_count": 3,
   "id": "5402885c-b13f-4081-a6ea-772b7df32c9b",
   "metadata": {
    "tags": []
   },
   "outputs": [
    {
     "data": {
      "text/plain": [
       "address     0\n",
       "district    0\n",
       "area        0\n",
       "bedrooms    0\n",
       "garage      0\n",
       "type        0\n",
       "rent        0\n",
       "total       0\n",
       "dtype: int64"
      ]
     },
     "execution_count": 3,
     "metadata": {},
     "output_type": "execute_result"
    }
   ],
   "source": [
    "df.isna().sum() # Mostrando de maneira mais óbvia que não existem nulos"
   ]
  },
  {
   "cell_type": "markdown",
   "id": "dcbd8378-330f-431b-9cba-12c1b2f0285e",
   "metadata": {
    "tags": []
   },
   "source": [
    " Como podemos observar abaixo, a medida que o número de banheiros, garagens e a área construída aumentam nós temos o aluguel mais caro e um valor total que também é maior. \n"
   ]
  },
  {
   "cell_type": "code",
   "execution_count": 4,
   "id": "f951aafb-179a-4cb3-be7d-0df88b0b3324",
   "metadata": {
    "tags": []
   },
   "outputs": [
    {
     "data": {
      "text/plain": [
       "address     25 de Março\n",
       "district      Aclimação\n",
       "area                  0\n",
       "bedrooms              0\n",
       "garage                0\n",
       "type        Apartamento\n",
       "rent                500\n",
       "total               509\n",
       "dtype: object"
      ]
     },
     "execution_count": 4,
     "metadata": {},
     "output_type": "execute_result"
    }
   ],
   "source": [
    "df.min() # O menor valor de aluguel é de 500 reais com total de 509"
   ]
  },
  {
   "cell_type": "code",
   "execution_count": 5,
   "id": "6c2a535f-cd1c-4d3f-8989-38871095f531",
   "metadata": {
    "tags": []
   },
   "outputs": [
    {
     "data": {
      "text/plain": [
       "address       dos Pinheiros\n",
       "district          Água Rasa\n",
       "area                    580\n",
       "bedrooms                  6\n",
       "garage                    6\n",
       "type        Studio e kitnet\n",
       "rent                  25000\n",
       "total                 28700\n",
       "dtype: object"
      ]
     },
     "execution_count": 5,
     "metadata": {},
     "output_type": "execute_result"
    }
   ],
   "source": [
    "df.max() # O aluguel mais caro é 25 mil reais com 28 mil e 700 de total"
   ]
  },
  {
   "cell_type": "code",
   "execution_count": 6,
   "id": "5f09cff6-e1fa-4540-b911-b2ce3d554b66",
   "metadata": {
    "tags": []
   },
   "outputs": [
    {
     "data": {
      "text/plain": [
       "area          84.655658\n",
       "bedrooms       1.966286\n",
       "garage         1.060393\n",
       "rent        3250.814789\n",
       "total       4080.030625\n",
       "dtype: float64"
      ]
     },
     "execution_count": 6,
     "metadata": {},
     "output_type": "execute_result"
    }
   ],
   "source": [
    "df.mean() # Aqui observamos que a média do aluguel é de 3251 reais, e a média de área é de 84.7 métros quadrados "
   ]
  },
  {
   "cell_type": "code",
   "execution_count": 7,
   "id": "b1eba3d8-4330-4008-b9b7-87a62d1fdd27",
   "metadata": {
    "tags": []
   },
   "outputs": [
    {
     "data": {
      "text/plain": [
       "area          60.0\n",
       "bedrooms       2.0\n",
       "garage         1.0\n",
       "rent        2415.0\n",
       "total       3057.0\n",
       "dtype: float64"
      ]
     },
     "execution_count": 7,
     "metadata": {},
     "output_type": "execute_result"
    }
   ],
   "source": [
    "df.median() # A mediana dos dados aponta que metade dos alugueis é de até 2415 reais e uma área de 60 m²"
   ]
  },
  {
   "cell_type": "code",
   "execution_count": 8,
   "id": "97157cd6-e4bb-4aea-9e60-14516d8da67c",
   "metadata": {
    "tags": []
   },
   "outputs": [
    {
     "data": {
      "text/html": [
       "<style type=\"text/css\">\n",
       "#T_e00ac_row0_col0, #T_e00ac_row1_col1, #T_e00ac_row2_col2, #T_e00ac_row3_col3, #T_e00ac_row4_col4 {\n",
       "  background-color: #023858;\n",
       "  color: #f1f1f1;\n",
       "}\n",
       "#T_e00ac_row0_col1 {\n",
       "  background-color: #91b5d6;\n",
       "  color: #000000;\n",
       "}\n",
       "#T_e00ac_row0_col2 {\n",
       "  background-color: #bfc9e1;\n",
       "  color: #000000;\n",
       "}\n",
       "#T_e00ac_row0_col3 {\n",
       "  background-color: #c2cbe2;\n",
       "  color: #000000;\n",
       "}\n",
       "#T_e00ac_row0_col4 {\n",
       "  background-color: #cacee5;\n",
       "  color: #000000;\n",
       "}\n",
       "#T_e00ac_row1_col0 {\n",
       "  background-color: #d8d7e9;\n",
       "  color: #000000;\n",
       "}\n",
       "#T_e00ac_row1_col2 {\n",
       "  background-color: #f0eaf4;\n",
       "  color: #000000;\n",
       "}\n",
       "#T_e00ac_row1_col3, #T_e00ac_row1_col4, #T_e00ac_row3_col2, #T_e00ac_row4_col0, #T_e00ac_row4_col1, #T_e00ac_row4_col2 {\n",
       "  background-color: #fff7fb;\n",
       "  color: #000000;\n",
       "}\n",
       "#T_e00ac_row2_col0 {\n",
       "  background-color: #d4d4e8;\n",
       "  color: #000000;\n",
       "}\n",
       "#T_e00ac_row2_col1 {\n",
       "  background-color: #c8cde4;\n",
       "  color: #000000;\n",
       "}\n",
       "#T_e00ac_row2_col3 {\n",
       "  background-color: #dfddec;\n",
       "  color: #000000;\n",
       "}\n",
       "#T_e00ac_row2_col4 {\n",
       "  background-color: #dddbec;\n",
       "  color: #000000;\n",
       "}\n",
       "#T_e00ac_row3_col0 {\n",
       "  background-color: #f8f1f8;\n",
       "  color: #000000;\n",
       "}\n",
       "#T_e00ac_row3_col1 {\n",
       "  background-color: #fef6fa;\n",
       "  color: #000000;\n",
       "}\n",
       "#T_e00ac_row3_col4, #T_e00ac_row4_col3 {\n",
       "  background-color: #03446a;\n",
       "  color: #f1f1f1;\n",
       "}\n",
       "</style>\n",
       "<table id=\"T_e00ac\">\n",
       "  <thead>\n",
       "    <tr>\n",
       "      <th class=\"blank level0\" >&nbsp;</th>\n",
       "      <th id=\"T_e00ac_level0_col0\" class=\"col_heading level0 col0\" >area</th>\n",
       "      <th id=\"T_e00ac_level0_col1\" class=\"col_heading level0 col1\" >bedrooms</th>\n",
       "      <th id=\"T_e00ac_level0_col2\" class=\"col_heading level0 col2\" >garage</th>\n",
       "      <th id=\"T_e00ac_level0_col3\" class=\"col_heading level0 col3\" >rent</th>\n",
       "      <th id=\"T_e00ac_level0_col4\" class=\"col_heading level0 col4\" >total</th>\n",
       "    </tr>\n",
       "  </thead>\n",
       "  <tbody>\n",
       "    <tr>\n",
       "      <th id=\"T_e00ac_level0_row0\" class=\"row_heading level0 row0\" >area</th>\n",
       "      <td id=\"T_e00ac_row0_col0\" class=\"data row0 col0\" >1.000000</td>\n",
       "      <td id=\"T_e00ac_row0_col1\" class=\"data row0 col1\" >0.727905</td>\n",
       "      <td id=\"T_e00ac_row0_col2\" class=\"data row0 col2\" >0.733403</td>\n",
       "      <td id=\"T_e00ac_row0_col3\" class=\"data row0 col3\" >0.667173</td>\n",
       "      <td id=\"T_e00ac_row0_col4\" class=\"data row0 col4\" >0.652128</td>\n",
       "    </tr>\n",
       "    <tr>\n",
       "      <th id=\"T_e00ac_level0_row1\" class=\"row_heading level0 row1\" >bedrooms</th>\n",
       "      <td id=\"T_e00ac_row1_col0\" class=\"data row1 col0\" >0.727905</td>\n",
       "      <td id=\"T_e00ac_row1_col1\" class=\"data row1 col1\" >1.000000</td>\n",
       "      <td id=\"T_e00ac_row1_col2\" class=\"data row1 col2\" >0.656906</td>\n",
       "      <td id=\"T_e00ac_row1_col3\" class=\"data row1 col3\" >0.531164</td>\n",
       "      <td id=\"T_e00ac_row1_col4\" class=\"data row1 col4\" >0.525973</td>\n",
       "    </tr>\n",
       "    <tr>\n",
       "      <th id=\"T_e00ac_level0_row2\" class=\"row_heading level0 row2\" >garage</th>\n",
       "      <td id=\"T_e00ac_row2_col0\" class=\"data row2 col0\" >0.733403</td>\n",
       "      <td id=\"T_e00ac_row2_col1\" class=\"data row2 col1\" >0.656906</td>\n",
       "      <td id=\"T_e00ac_row2_col2\" class=\"data row2 col2\" >1.000000</td>\n",
       "      <td id=\"T_e00ac_row2_col3\" class=\"data row2 col3\" >0.617276</td>\n",
       "      <td id=\"T_e00ac_row2_col4\" class=\"data row2 col4\" >0.617981</td>\n",
       "    </tr>\n",
       "    <tr>\n",
       "      <th id=\"T_e00ac_level0_row3\" class=\"row_heading level0 row3\" >rent</th>\n",
       "      <td id=\"T_e00ac_row3_col0\" class=\"data row3 col0\" >0.667173</td>\n",
       "      <td id=\"T_e00ac_row3_col1\" class=\"data row3 col1\" >0.531164</td>\n",
       "      <td id=\"T_e00ac_row3_col2\" class=\"data row3 col2\" >0.617276</td>\n",
       "      <td id=\"T_e00ac_row3_col3\" class=\"data row3 col3\" >1.000000</td>\n",
       "      <td id=\"T_e00ac_row3_col4\" class=\"data row3 col4\" >0.978108</td>\n",
       "    </tr>\n",
       "    <tr>\n",
       "      <th id=\"T_e00ac_level0_row4\" class=\"row_heading level0 row4\" >total</th>\n",
       "      <td id=\"T_e00ac_row4_col0\" class=\"data row4 col0\" >0.652128</td>\n",
       "      <td id=\"T_e00ac_row4_col1\" class=\"data row4 col1\" >0.525973</td>\n",
       "      <td id=\"T_e00ac_row4_col2\" class=\"data row4 col2\" >0.617981</td>\n",
       "      <td id=\"T_e00ac_row4_col3\" class=\"data row4 col3\" >0.978108</td>\n",
       "      <td id=\"T_e00ac_row4_col4\" class=\"data row4 col4\" >1.000000</td>\n",
       "    </tr>\n",
       "  </tbody>\n",
       "</table>\n"
      ],
      "text/plain": [
       "<pandas.io.formats.style.Styler at 0x18316d31550>"
      ]
     },
     "execution_count": 8,
     "metadata": {},
     "output_type": "execute_result"
    }
   ],
   "source": [
    "df.corr().style.background_gradient() # Podemos observar correlações positivas entre todas as colunas."
   ]
  },
  {
   "cell_type": "code",
   "execution_count": 9,
   "id": "721c2375-3aa4-45c3-a818-4ed761a86b61",
   "metadata": {
    "tags": []
   },
   "outputs": [
    {
     "data": {
      "text/plain": [
       "array([[<Axes: title={'center': 'area'}>,\n",
       "        <Axes: title={'center': 'bedrooms'}>],\n",
       "       [<Axes: title={'center': 'garage'}>,\n",
       "        <Axes: title={'center': 'rent'}>],\n",
       "       [<Axes: title={'center': 'total'}>, <Axes: >]], dtype=object)"
      ]
     },
     "execution_count": 9,
     "metadata": {},
     "output_type": "execute_result"
    },
    {
     "data": {
      "image/png": "[encoded data removed]",
      "text/plain": [
       "<Figure size 1400x800 with 6 Axes>"
      ]
     },
     "metadata": {},
     "output_type": "display_data"
    }
   ],
   "source": [
    "df.hist(figsize=(14,8))"
   ]
  },
  {
   "cell_type": "code",
   "execution_count": 10,
   "id": "fdbe8a02-0364-4bc1-8f99-06cfeb6c0bcd",
   "metadata": {},
   "outputs": [
    {
     "data": {
      "text/plain": [
       "Rua da Consolação                      49\n",
       "Rua Bela Cintra                        47\n",
       "Avenida Brigadeiro Luís Antônio        36\n",
       "Avenida Ipiranga                       32\n",
       "Avenida Nove de Julho                  29\n",
       "                                       ..\n",
       "Rua Passo da Pátria                     1\n",
       "Rua Teixeira Leite                      1\n",
       "Avenida Professor Abraão de Morais      1\n",
       "Rua Doutor Joaquim D'aquino Fonseca     1\n",
       "Rua Abílio Borin                        1\n",
       "Name: address, Length: 5348, dtype: int64"
      ]
     },
     "execution_count": 10,
     "metadata": {},
     "output_type": "execute_result"
    }
   ],
   "source": [
    "df['address'].value_counts() # Podemos usar pandas.get_dummies para as variáveis 'address' e 'district', mas teríamos muitas colunas\n",
    "# Essas colunas também poderiam trazer informações que tornariam nosso modelo pior (causando multicolinearidade ou Overfitting)\n",
    "# Com isso em mente, optei por retirar essas variáveis e utilizar somente o tipo de apartamento"
   ]
  },
  {
   "cell_type": "code",
   "execution_count": 77,
   "id": "3b8cfd30-39c1-4149-b897-e6b000c74929",
   "metadata": {
    "tags": []
   },
   "outputs": [],
   "source": [
    "import matplotlib.pyplot as plt\n",
    "import seaborn as sns"
   ]
  },
  {
   "cell_type": "markdown",
   "id": "04142a20-f006-47ab-9ad8-8dfbcbf0d986",
   "metadata": {},
   "source": [
    "A seguir podemos ver um gráfico da correlação linear entre as variáveis explicativas e nossa variável resposta, retirando \"rent\" para que não haja vazamento de dados"
   ]
  },
  {
   "cell_type": "code",
   "execution_count": 79,
   "id": "a6c8541c-828b-41ce-b110-f8f8ecf36330",
   "metadata": {
    "tags": []
   },
   "outputs": [
    {
     "data": {
      "image/png": "[encoded data removed]",
      "text/plain": [
       "<Figure size 1600x600 with 1 Axes>"
      ]
     },
     "metadata": {},
     "output_type": "display_data"
    }
   ],
   "source": [
    "dummies = pd.get_dummies(df.drop('address',axis=1).drop('district',axis=1).drop('rent',axis=1))\n",
    "valores = dummies.corr()['total'].sort_values(ascending=False)[1:]\n",
    "\n",
    "fig, ax = plt.subplots(figsize= (16, 6))\n",
    "sns.barplot(x=valores.index, y=valores.values, palette='coolwarm')\n",
    "ax.tick_params(axis='x', rotation=90)\n",
    "ax.set_xlabel('')\n",
    "\n",
    "plt.show()"
   ]
  },
  {
   "cell_type": "markdown",
   "id": "ce6fb2a6-8b88-4f59-b92e-05124d209a90",
   "metadata": {},
   "source": [
    "A seguir testaremos incluir o distrito para ver o impacto negativo na previsão"
   ]
  },
  {
   "cell_type": "code",
   "execution_count": 46,
   "id": "339d6c5a-c0b3-44b3-b209-af92b445902b",
   "metadata": {},
   "outputs": [],
   "source": [
    "from sklearn.model_selection import train_test_split\n",
    "df1 = pd.get_dummies(df.drop('address',axis=1))#.drop('district',axis=1))\n",
    "x = df1.drop(['rent'],axis=1).drop(['total'],axis=1)\n",
    "y= df1['total']"
   ]
  },
  {
   "cell_type": "code",
   "execution_count": 47,
   "id": "9f9749c9-b791-47ec-9590-fdc0b302b1cb",
   "metadata": {},
   "outputs": [
    {
     "data": {
      "text/plain": [
       "Index(['area', 'bedrooms', 'garage', 'district_Aclimação', 'district_Adalgisa',\n",
       "       'district_Agua Branca', 'district_Alphaville',\n",
       "       'district_Alphaville Centro Industrial E Empresarial/alphaville.',\n",
       "       'district_Alphaville Conde Ii', 'district_Alphaville Empresarial',\n",
       "       ...\n",
       "       'district_Vila Água Funda', 'district_Várzea da Barra Funda',\n",
       "       'district_Água Branca', 'district_Água Fria', 'district_Água Funda',\n",
       "       'district_Água Rasa', 'type_Apartamento', 'type_Casa',\n",
       "       'type_Casa em condomínio', 'type_Studio e kitnet'],\n",
       "      dtype='object', length=1206)"
      ]
     },
     "execution_count": 47,
     "metadata": {},
     "output_type": "execute_result"
    }
   ],
   "source": [
    "X_train, X_test, y_train, y_test = train_test_split(x,y,test_size=0.2)\n",
    "X_train.columns"
   ]
  },
  {
   "cell_type": "code",
   "execution_count": 50,
   "id": "47927d7c-7c56-43b0-af2c-f265bc0a638b",
   "metadata": {},
   "outputs": [
    {
     "data": {
      "text/html": [
       "<style>#sk-container-id-10 {color: black;}#sk-container-id-10 pre{padding: 0;}#sk-container-id-10 div.sk-toggleable {background-color: white;}#sk-container-id-10 label.sk-toggleable__label {cursor: pointer;display: block;width: 100%;margin-bottom: 0;padding: 0.3em;box-sizing: border-box;text-align: center;}#sk-container-id-10 label.sk-toggleable__label-arrow:before {content: \"▸\";float: left;margin-right: 0.25em;color: #696969;}#sk-container-id-10 label.sk-toggleable__label-arrow:hover:before {color: black;}#sk-container-id-10 div.sk-estimator:hover label.sk-toggleable__label-arrow:before {color: black;}#sk-container-id-10 div.sk-toggleable__content {max-height: 0;max-width: 0;overflow: hidden;text-align: left;background-color: #f0f8ff;}#sk-container-id-10 div.sk-toggleable__content pre {margin: 0.2em;color: black;border-radius: 0.25em;background-color: #f0f8ff;}#sk-container-id-10 input.sk-toggleable__control:checked~div.sk-toggleable__content {max-height: 200px;max-width: 100%;overflow: auto;}#sk-container-id-10 input.sk-toggleable__control:checked~label.sk-toggleable__label-arrow:before {content: \"▾\";}#sk-container-id-10 div.sk-estimator input.sk-toggleable__control:checked~label.sk-toggleable__label {background-color: #d4ebff;}#sk-container-id-10 div.sk-label input.sk-toggleable__control:checked~label.sk-toggleable__label {background-color: #d4ebff;}#sk-container-id-10 input.sk-hidden--visually {border: 0;clip: rect(1px 1px 1px 1px);clip: rect(1px, 1px, 1px, 1px);height: 1px;margin: -1px;overflow: hidden;padding: 0;position: absolute;width: 1px;}#sk-container-id-10 div.sk-estimator {font-family: monospace;background-color: #f0f8ff;border: 1px dotted black;border-radius: 0.25em;box-sizing: border-box;margin-bottom: 0.5em;}#sk-container-id-10 div.sk-estimator:hover {background-color: #d4ebff;}#sk-container-id-10 div.sk-parallel-item::after {content: \"\";width: 100%;border-bottom: 1px solid gray;flex-grow: 1;}#sk-container-id-10 div.sk-label:hover label.sk-toggleable__label {background-color: #d4ebff;}#sk-container-id-10 div.sk-serial::before {content: \"\";position: absolute;border-left: 1px solid gray;box-sizing: border-box;top: 0;bottom: 0;left: 50%;z-index: 0;}#sk-container-id-10 div.sk-serial {display: flex;flex-direction: column;align-items: center;background-color: white;padding-right: 0.2em;padding-left: 0.2em;position: relative;}#sk-container-id-10 div.sk-item {position: relative;z-index: 1;}#sk-container-id-10 div.sk-parallel {display: flex;align-items: stretch;justify-content: center;background-color: white;position: relative;}#sk-container-id-10 div.sk-item::before, #sk-container-id-10 div.sk-parallel-item::before {content: \"\";position: absolute;border-left: 1px solid gray;box-sizing: border-box;top: 0;bottom: 0;left: 50%;z-index: -1;}#sk-container-id-10 div.sk-parallel-item {display: flex;flex-direction: column;z-index: 1;position: relative;background-color: white;}#sk-container-id-10 div.sk-parallel-item:first-child::after {align-self: flex-end;width: 50%;}#sk-container-id-10 div.sk-parallel-item:last-child::after {align-self: flex-start;width: 50%;}#sk-container-id-10 div.sk-parallel-item:only-child::after {width: 0;}#sk-container-id-10 div.sk-dashed-wrapped {border: 1px dashed gray;margin: 0 0.4em 0.5em 0.4em;box-sizing: border-box;padding-bottom: 0.4em;background-color: white;}#sk-container-id-10 div.sk-label label {font-family: monospace;font-weight: bold;display: inline-block;line-height: 1.2em;}#sk-container-id-10 div.sk-label-container {text-align: center;}#sk-container-id-10 div.sk-container {/* jupyter's `normalize.less` sets `[hidden] { display: none; }` but bootstrap.min.css set `[hidden] { display: none !important; }` so we also need the `!important` here to be able to override the default hidden behavior on the sphinx rendered scikit-learn.org. See: https://github.com/scikit-learn/scikit-learn/issues/21755 */display: inline-block !important;position: relative;}#sk-container-id-10 div.sk-text-repr-fallback {display: none;}</style><div id=\"sk-container-id-10\" class=\"sk-top-container\"><div class=\"sk-text-repr-fallback\"><pre>LinearRegression()</pre><b>In a Jupyter environment, please rerun this cell to show the HTML representation or trust the notebook. <br />On GitHub, the HTML representation is unable to render, please try loading this page with nbviewer.org.</b></div><div class=\"sk-container\" hidden><div class=\"sk-item\"><div class=\"sk-estimator sk-toggleable\"><input class=\"sk-toggleable__control sk-hidden--visually\" id=\"sk-estimator-id-10\" type=\"checkbox\" checked><label for=\"sk-estimator-id-10\" class=\"sk-toggleable__label sk-toggleable__label-arrow\">LinearRegression</label><div class=\"sk-toggleable__content\"><pre>LinearRegression()</pre></div></div></div></div></div>"
      ],
      "text/plain": [
       "LinearRegression()"
      ]
     },
     "execution_count": 50,
     "metadata": {},
     "output_type": "execute_result"
    }
   ],
   "source": [
    "from sklearn.linear_model import LinearRegression\n",
    "reg = LinearRegression()\n",
    "reg.fit(X_train,y_train)"
   ]
  },
  {
   "cell_type": "code",
   "execution_count": 52,
   "id": "a92ed9bb-bff0-44af-9024-cccfa9159492",
   "metadata": {},
   "outputs": [
    {
     "data": {
      "text/plain": [
       "-6490267175631656.0"
      ]
     },
     "execution_count": 52,
     "metadata": {},
     "output_type": "execute_result"
    }
   ],
   "source": [
    "reg.score(X_test,y_test) "
   ]
  },
  {
   "cell_type": "markdown",
   "id": "9d087e05-3616-4ba9-a7b9-ce6d88f987c6",
   "metadata": {},
   "source": [
    "A pontuação obtida, -6490267175631656.0, é extremamente negativa, o que indica que o modelo de regressão linear está performando muito mal.\n",
    "\n",
    "O método reg.score(X_test, y_test) calcula o coeficiente de determinação \n",
    "𝑅\n",
    "2\n",
    "\n",
    " , que é uma medida estatística que determina o quão bem as previsões do modelo se ajustam aos dados observados. O valor do \n",
    "𝑅\n",
    "2\n",
    "\n",
    "  varia de -∞ a 1. Aqui está o que diferentes valores de \n",
    "𝑅\n",
    "2\n",
    "\n",
    "  significam:\n",
    "\n",
    "\n",
    "R \n",
    "2\n",
    " =1: O modelo explica perfeitamente a variabilidade dos dados.\n",
    "\n",
    "R \n",
    "2\n",
    " =0: O modelo não explica nada além da média dos dados.\n",
    "\n",
    "R \n",
    "2\n",
    " <0: O modelo está fazendo previsões piores do que uma linha horizontal que simplesmente prediz a média dos valores de y_test.\n",
    "Um valor de \n",
    "𝑅\n",
    "2\n",
    "R \n",
    "2\n",
    "  tão negativo como -6490267175631656.0 sugere que o modelo está fazendo previsões muito piores do que a média simples dos valores de y_test. Isso pode ocorrer por diversos motivos:"
   ]
  },
  {
   "cell_type": "code",
   "execution_count": 57,
   "id": "5038168e-53cf-4cdc-bea0-c5eec40b99ae",
   "metadata": {
    "tags": []
   },
   "outputs": [],
   "source": [
    "df1 = pd.get_dummies(df.drop('address',axis=1).drop('district',axis=1))\n",
    "x = df1.drop(['rent'],axis=1).drop(['total'],axis=1)\n",
    "y= df1['total']"
   ]
  },
  {
   "cell_type": "code",
   "execution_count": 58,
   "id": "f1b9f20e-7c41-4b5c-9a2c-0215027eef13",
   "metadata": {
    "tags": []
   },
   "outputs": [
    {
     "data": {
      "text/plain": [
       "Index(['area', 'bedrooms', 'garage', 'type_Apartamento', 'type_Casa',\n",
       "       'type_Casa em condomínio', 'type_Studio e kitnet'],\n",
       "      dtype='object')"
      ]
     },
     "execution_count": 58,
     "metadata": {},
     "output_type": "execute_result"
    }
   ],
   "source": [
    "X_train, X_test, y_train, y_test = train_test_split(x,y,test_size=0.2)\n",
    "X_train.columns"
   ]
  },
  {
   "cell_type": "code",
   "execution_count": 59,
   "id": "f182198e-aacf-42b1-a096-5f37ac4589fa",
   "metadata": {
    "tags": []
   },
   "outputs": [
    {
     "data": {
      "text/html": [
       "<style>#sk-container-id-12 {color: black;}#sk-container-id-12 pre{padding: 0;}#sk-container-id-12 div.sk-toggleable {background-color: white;}#sk-container-id-12 label.sk-toggleable__label {cursor: pointer;display: block;width: 100%;margin-bottom: 0;padding: 0.3em;box-sizing: border-box;text-align: center;}#sk-container-id-12 label.sk-toggleable__label-arrow:before {content: \"▸\";float: left;margin-right: 0.25em;color: #696969;}#sk-container-id-12 label.sk-toggleable__label-arrow:hover:before {color: black;}#sk-container-id-12 div.sk-estimator:hover label.sk-toggleable__label-arrow:before {color: black;}#sk-container-id-12 div.sk-toggleable__content {max-height: 0;max-width: 0;overflow: hidden;text-align: left;background-color: #f0f8ff;}#sk-container-id-12 div.sk-toggleable__content pre {margin: 0.2em;color: black;border-radius: 0.25em;background-color: #f0f8ff;}#sk-container-id-12 input.sk-toggleable__control:checked~div.sk-toggleable__content {max-height: 200px;max-width: 100%;overflow: auto;}#sk-container-id-12 input.sk-toggleable__control:checked~label.sk-toggleable__label-arrow:before {content: \"▾\";}#sk-container-id-12 div.sk-estimator input.sk-toggleable__control:checked~label.sk-toggleable__label {background-color: #d4ebff;}#sk-container-id-12 div.sk-label input.sk-toggleable__control:checked~label.sk-toggleable__label {background-color: #d4ebff;}#sk-container-id-12 input.sk-hidden--visually {border: 0;clip: rect(1px 1px 1px 1px);clip: rect(1px, 1px, 1px, 1px);height: 1px;margin: -1px;overflow: hidden;padding: 0;position: absolute;width: 1px;}#sk-container-id-12 div.sk-estimator {font-family: monospace;background-color: #f0f8ff;border: 1px dotted black;border-radius: 0.25em;box-sizing: border-box;margin-bottom: 0.5em;}#sk-container-id-12 div.sk-estimator:hover {background-color: #d4ebff;}#sk-container-id-12 div.sk-parallel-item::after {content: \"\";width: 100%;border-bottom: 1px solid gray;flex-grow: 1;}#sk-container-id-12 div.sk-label:hover label.sk-toggleable__label {background-color: #d4ebff;}#sk-container-id-12 div.sk-serial::before {content: \"\";position: absolute;border-left: 1px solid gray;box-sizing: border-box;top: 0;bottom: 0;left: 50%;z-index: 0;}#sk-container-id-12 div.sk-serial {display: flex;flex-direction: column;align-items: center;background-color: white;padding-right: 0.2em;padding-left: 0.2em;position: relative;}#sk-container-id-12 div.sk-item {position: relative;z-index: 1;}#sk-container-id-12 div.sk-parallel {display: flex;align-items: stretch;justify-content: center;background-color: white;position: relative;}#sk-container-id-12 div.sk-item::before, #sk-container-id-12 div.sk-parallel-item::before {content: \"\";position: absolute;border-left: 1px solid gray;box-sizing: border-box;top: 0;bottom: 0;left: 50%;z-index: -1;}#sk-container-id-12 div.sk-parallel-item {display: flex;flex-direction: column;z-index: 1;position: relative;background-color: white;}#sk-container-id-12 div.sk-parallel-item:first-child::after {align-self: flex-end;width: 50%;}#sk-container-id-12 div.sk-parallel-item:last-child::after {align-self: flex-start;width: 50%;}#sk-container-id-12 div.sk-parallel-item:only-child::after {width: 0;}#sk-container-id-12 div.sk-dashed-wrapped {border: 1px dashed gray;margin: 0 0.4em 0.5em 0.4em;box-sizing: border-box;padding-bottom: 0.4em;background-color: white;}#sk-container-id-12 div.sk-label label {font-family: monospace;font-weight: bold;display: inline-block;line-height: 1.2em;}#sk-container-id-12 div.sk-label-container {text-align: center;}#sk-container-id-12 div.sk-container {/* jupyter's `normalize.less` sets `[hidden] { display: none; }` but bootstrap.min.css set `[hidden] { display: none !important; }` so we also need the `!important` here to be able to override the default hidden behavior on the sphinx rendered scikit-learn.org. See: https://github.com/scikit-learn/scikit-learn/issues/21755 */display: inline-block !important;position: relative;}#sk-container-id-12 div.sk-text-repr-fallback {display: none;}</style><div id=\"sk-container-id-12\" class=\"sk-top-container\"><div class=\"sk-text-repr-fallback\"><pre>LinearRegression()</pre><b>In a Jupyter environment, please rerun this cell to show the HTML representation or trust the notebook. <br />On GitHub, the HTML representation is unable to render, please try loading this page with nbviewer.org.</b></div><div class=\"sk-container\" hidden><div class=\"sk-item\"><div class=\"sk-estimator sk-toggleable\"><input class=\"sk-toggleable__control sk-hidden--visually\" id=\"sk-estimator-id-12\" type=\"checkbox\" checked><label for=\"sk-estimator-id-12\" class=\"sk-toggleable__label sk-toggleable__label-arrow\">LinearRegression</label><div class=\"sk-toggleable__content\"><pre>LinearRegression()</pre></div></div></div></div></div>"
      ],
      "text/plain": [
       "LinearRegression()"
      ]
     },
     "execution_count": 59,
     "metadata": {},
     "output_type": "execute_result"
    }
   ],
   "source": [
    "reg = LinearRegression()\n",
    "reg.fit(X_train,y_train)"
   ]
  },
  {
   "cell_type": "code",
   "execution_count": 60,
   "id": "01bba346-fa6a-420d-9ea8-89e41b6d9f26",
   "metadata": {
    "tags": []
   },
   "outputs": [
    {
     "data": {
      "text/plain": [
       "0.5792823903186528"
      ]
     },
     "execution_count": 60,
     "metadata": {},
     "output_type": "execute_result"
    }
   ],
   "source": [
    "reg.score(X_test,y_test)"
   ]
  },
  {
   "cell_type": "markdown",
   "id": "42329a52-b504-46cc-a6a9-252e95a9345f",
   "metadata": {},
   "source": [
    "Aqui, já podemos ver que retirando a variável de distrito obtivemos um ajuste bem melhor. Porém, ainda não é possível considerar este modelo\n",
    "como uma boa fonte de predição. É provável que outros modelos se ajustem melhor aos dados, além disso, podem ser necessárias mais informações para melhorar a acurácia da previsão."
   ]
  }
 ],
 "metadata": {
  "kernelspec": {
   "display_name": "Python 3 (ipykernel)",
   "language": "python",
   "name": "python3"
  },
  "language_info": {
   "codemirror_mode": {
    "name": "ipython",
    "version": 3
   },
   "file_extension": ".py",
   "mimetype": "text/x-python",
   "name": "python",
   "nbconvert_exporter": "python",
   "pygments_lexer": "ipython3",
   "version": "3.11.4"
  }
 },
 "nbformat": 4,
 "nbformat_minor": 5
}
